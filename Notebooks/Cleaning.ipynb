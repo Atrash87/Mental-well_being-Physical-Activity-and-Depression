{
 "cells": [
  {
   "cell_type": "code",
   "execution_count": 1,
   "id": "fa929915",
   "metadata": {},
   "outputs": [],
   "source": [
    "import pandas as pd"
   ]
  },
  {
   "cell_type": "code",
   "execution_count": 2,
   "id": "f628038f",
   "metadata": {},
   "outputs": [],
   "source": [
    "# Load the original dataset\n",
    "df = pd.read_excel('data.xlsx') "
   ]
  },
  {
   "cell_type": "code",
   "execution_count": 3,
   "id": "65df6737",
   "metadata": {},
   "outputs": [],
   "source": [
    "# Standardize column names: strip whitespace and convert to lowercase\n",
    "df.columns = df.columns.str.strip()\n"
   ]
  },
  {
   "cell_type": "code",
   "execution_count": 4,
   "id": "db0accf9",
   "metadata": {},
   "outputs": [],
   "source": [
    "# List of columns to keep\n",
    "columns_to_keep = [\n",
    "    'sex', 'age', 'Education', 'income',\n",
    "    'BMI', 'chronic_disease','smoking', 'drinking_alcohol', 'IPAQ',\n",
    "    'PHQ9_score', 'depression_score','depression_4','depression_2_5','insomnia_4','ISI_score',\n",
    "    'weekly_total_MET'\n",
    "]\n",
    "\n",
    "# Verify all requested columns exist in the data\n",
    "missing_columns = [col for col in columns_to_keep if col not in df.columns]\n",
    "if missing_columns:\n",
    "    print(\"Warning: These columns are missing and will be skipped:\", missing_columns)\n",
    "    columns_to_keep = [col for col in columns_to_keep if col in df.columns]\n",
    "\n",
    "# Filter and save\n",
    "df_filtered = df[columns_to_keep]\n",
    "output_file = 'filtered_data_analysis_ready.csv'\n",
    "df_filtered.to_csv(output_file, index=False)\n"
   ]
  },
  {
   "cell_type": "code",
   "execution_count": 5,
   "id": "8789baae",
   "metadata": {},
   "outputs": [
    {
     "name": "stdout",
     "output_type": "stream",
     "text": [
      "chronic_disease     302\n",
      "sex                   0\n",
      "Education             0\n",
      "age                   0\n",
      "income                0\n",
      "BMI                   0\n",
      "smoking               0\n",
      "drinking_alcohol      0\n",
      "IPAQ                  0\n",
      "PHQ9_score            0\n",
      "depression_score      0\n",
      "depression_4          0\n",
      "depression_2_5        0\n",
      "insomnia_4            0\n",
      "ISI_score             0\n",
      "weekly_total_MET      0\n",
      "dtype: int64\n"
     ]
    }
   ],
   "source": [
    "# Find and print missing values in each column\n",
    "print(df_filtered.isnull().sum().sort_values(ascending=False))"
   ]
  },
  {
   "cell_type": "code",
   "execution_count": 6,
   "id": "73d268a6",
   "metadata": {},
   "outputs": [
    {
     "name": "stderr",
     "output_type": "stream",
     "text": [
      "C:\\Users\\hasan\\AppData\\Local\\Temp\\ipykernel_12900\\2665801249.py:2: SettingWithCopyWarning: \n",
      "A value is trying to be set on a copy of a slice from a DataFrame.\n",
      "Try using .loc[row_indexer,col_indexer] = value instead\n",
      "\n",
      "See the caveats in the documentation: https://pandas.pydata.org/pandas-docs/stable/user_guide/indexing.html#returning-a-view-versus-a-copy\n",
      "  df_filtered['chronic_disease'] = df_filtered['chronic_disease'].fillna(0).astype(int)\n"
     ]
    }
   ],
   "source": [
    "# Fill missing values in 'chronic_disease' with '0'\n",
    "df_filtered['chronic_disease'] = df_filtered['chronic_disease'].fillna(0).astype(int)\n"
   ]
  },
  {
   "cell_type": "code",
   "execution_count": 7,
   "id": "4abc82d3",
   "metadata": {},
   "outputs": [
    {
     "name": "stderr",
     "output_type": "stream",
     "text": [
      "C:\\Users\\hasan\\AppData\\Local\\Temp\\ipykernel_12900\\1876035568.py:2: SettingWithCopyWarning: \n",
      "A value is trying to be set on a copy of a slice from a DataFrame.\n",
      "Try using .loc[row_indexer,col_indexer] = value instead\n",
      "\n",
      "See the caveats in the documentation: https://pandas.pydata.org/pandas-docs/stable/user_guide/indexing.html#returning-a-view-versus-a-copy\n",
      "  df_filtered['gender'] = df_filtered['sex'].map({0: 'Female', 1:'Maele'})\n"
     ]
    }
   ],
   "source": [
    "# Map gender codes to labels\n",
    "df_filtered['gender'] = df_filtered['sex'].map({0: 'Female', 1:'Maele'})"
   ]
  },
  {
   "cell_type": "code",
   "execution_count": 8,
   "id": "8488e036",
   "metadata": {},
   "outputs": [
    {
     "name": "stderr",
     "output_type": "stream",
     "text": [
      "C:\\Users\\hasan\\AppData\\Local\\Temp\\ipykernel_12900\\1373762639.py:2: SettingWithCopyWarning: \n",
      "A value is trying to be set on a copy of a slice from a DataFrame.\n",
      "Try using .loc[row_indexer,col_indexer] = value instead\n",
      "\n",
      "See the caveats in the documentation: https://pandas.pydata.org/pandas-docs/stable/user_guide/indexing.html#returning-a-view-versus-a-copy\n",
      "  df_filtered[\"age_group_3\"] = pd.cut(df_filtered[\"age\"], bins=[18,40,60,100], labels=[\"18-40\",\"40-60\",\"60+\"])\n",
      "C:\\Users\\hasan\\AppData\\Local\\Temp\\ipykernel_12900\\1373762639.py:5: SettingWithCopyWarning: \n",
      "A value is trying to be set on a copy of a slice from a DataFrame.\n",
      "Try using .loc[row_indexer,col_indexer] = value instead\n",
      "\n",
      "See the caveats in the documentation: https://pandas.pydata.org/pandas-docs/stable/user_guide/indexing.html#returning-a-view-versus-a-copy\n",
      "  df_filtered[\"age_group_6\"] = pd.cut(df_filtered[\"age\"], bins=[18,30,40,50,60,70,100], labels=[\"18-30\",\"30-40\",\"40-50\",\"50-60\",\"60-70\",\"70+\"])\n"
     ]
    }
   ],
   "source": [
    "# Three age groups: 18-40, 40-60, 60+\n",
    "df_filtered[\"age_group_3\"] = pd.cut(df_filtered[\"age\"], bins=[18,40,60,100], labels=[\"18-40\",\"40-60\",\"60+\"])\n",
    "\n",
    "# 6 age groups: 18-30, 30-40, 40-50, 50-60, 60-70, 70+ 100+\n",
    "df_filtered[\"age_group_6\"] = pd.cut(df_filtered[\"age\"], bins=[18,30,40,50,60,70,100], labels=[\"18-30\",\"30-40\",\"40-50\",\"50-60\",\"60-70\",\"70+\"])"
   ]
  },
  {
   "cell_type": "code",
   "execution_count": 9,
   "id": "f926cbff",
   "metadata": {},
   "outputs": [
    {
     "name": "stderr",
     "output_type": "stream",
     "text": [
      "C:\\Users\\hasan\\AppData\\Local\\Temp\\ipykernel_12900\\2673051945.py:2: SettingWithCopyWarning: \n",
      "A value is trying to be set on a copy of a slice from a DataFrame.\n",
      "Try using .loc[row_indexer,col_indexer] = value instead\n",
      "\n",
      "See the caveats in the documentation: https://pandas.pydata.org/pandas-docs/stable/user_guide/indexing.html#returning-a-view-versus-a-copy\n",
      "  df_filtered['derpession_label'] = df_filtered['depression_2_5'].map({1: 'Depressed', 0: 'not_depressed'})\n",
      "C:\\Users\\hasan\\AppData\\Local\\Temp\\ipykernel_12900\\2673051945.py:3: SettingWithCopyWarning: \n",
      "A value is trying to be set on a copy of a slice from a DataFrame\n",
      "\n",
      "See the caveats in the documentation: https://pandas.pydata.org/pandas-docs/stable/user_guide/indexing.html#returning-a-view-versus-a-copy\n",
      "  df_filtered.rename(columns={'depression_2_5': 'depression_binary'}, inplace=True)\n"
     ]
    }
   ],
   "source": [
    "# Depression binary label\n",
    "df_filtered['derpession_label'] = df_filtered['depression_2_5'].map({1: 'Depressed', 0: 'not_depressed'})\n",
    "df_filtered.rename(columns={'depression_2_5': 'depression_binary'}, inplace=True)\n"
   ]
  },
  {
   "cell_type": "code",
   "execution_count": null,
   "id": "8eb4dd3a",
   "metadata": {},
   "outputs": [
    {
     "name": "stderr",
     "output_type": "stream",
     "text": [
      "C:\\Users\\hasan\\AppData\\Local\\Temp\\ipykernel_12900\\1812159828.py:3: SettingWithCopyWarning: \n",
      "A value is trying to be set on a copy of a slice from a DataFrame.\n",
      "Try using .loc[row_indexer,col_indexer] = value instead\n",
      "\n",
      "See the caveats in the documentation: https://pandas.pydata.org/pandas-docs/stable/user_guide/indexing.html#returning-a-view-versus-a-copy\n",
      "  df_filtered[\"IPAQ_label\"] = df[\"IPAQ\"].map(ipaQ_map)\n"
     ]
    }
   ],
   "source": [
    "# Map IPAQ values to labels\n",
    "ipaQ_map = {1: \"Low\", 2: \"Moderate\", 3: \"High\"}\n",
    "df_filtered[\"activity_level\"] = df[\"IPAQ\"].map(ipaQ_map)"
   ]
  },
  {
   "cell_type": "code",
   "execution_count": 11,
   "id": "a955cbb3",
   "metadata": {},
   "outputs": [
    {
     "name": "stderr",
     "output_type": "stream",
     "text": [
      "C:\\Users\\hasan\\AppData\\Local\\Temp\\ipykernel_12900\\631472999.py:11: SettingWithCopyWarning: \n",
      "A value is trying to be set on a copy of a slice from a DataFrame.\n",
      "Try using .loc[row_indexer,col_indexer] = value instead\n",
      "\n",
      "See the caveats in the documentation: https://pandas.pydata.org/pandas-docs/stable/user_guide/indexing.html#returning-a-view-versus-a-copy\n",
      "  df_filtered['income_group_label'] = df['income'].map(income_labels)\n"
     ]
    }
   ],
   "source": [
    "# Map existing 1-5 income codes to labels\n",
    "income_labels = {\n",
    "    1: \"Very Low\",\n",
    "    2: \"Low\",\n",
    "    3: \"Middle\",\n",
    "    4: \"High\",\n",
    "    5: \"Very High\"\n",
    "}\n",
    "\n",
    "# Create labeled version (keeping original numeric codes)\n",
    "df_filtered['income_group_label'] = df['income'].map(income_labels)\n"
   ]
  },
  {
   "cell_type": "code",
   "execution_count": null,
   "id": "4cd15fb5",
   "metadata": {},
   "outputs": [
    {
     "name": "stderr",
     "output_type": "stream",
     "text": [
      "C:\\Users\\hasan\\AppData\\Local\\Temp\\ipykernel_12900\\4047923145.py:10: SettingWithCopyWarning: \n",
      "A value is trying to be set on a copy of a slice from a DataFrame.\n",
      "Try using .loc[row_indexer,col_indexer] = value instead\n",
      "\n",
      "See the caveats in the documentation: https://pandas.pydata.org/pandas-docs/stable/user_guide/indexing.html#returning-a-view-versus-a-copy\n",
      "  df_filtered['BMI_category'] = pd.cut(df_filtered['BMI'],\n",
      "C:\\Users\\hasan\\AppData\\Local\\Temp\\ipykernel_12900\\4047923145.py:14: SettingWithCopyWarning: \n",
      "A value is trying to be set on a copy of a slice from a DataFrame.\n",
      "Try using .loc[row_indexer,col_indexer] = value instead\n",
      "\n",
      "See the caveats in the documentation: https://pandas.pydata.org/pandas-docs/stable/user_guide/indexing.html#returning-a-view-versus-a-copy\n",
      "  df_filtered['BMI_category_label'] = df_filtered['BMI_category'].map(bmi_labels)\n"
     ]
    }
   ],
   "source": [
    "# BMI Categorization (with dictionary labels)\n",
    "bmi_bins = [0, 18.5, 24.0, 28.0, float('inf')]\n",
    "bmi_labels = {\n",
    "    1: \"Underweight\",\n",
    "    2: \"Normal\",\n",
    "    3: \"Overweight\",\n",
    "    4: \"Obese\"\n",
    "}\n",
    "\n",
    "df_filtered['bmi_category'] = pd.cut(df_filtered['BMI'],\n",
    "                          bins=bmi_bins,\n",
    "                          labels=list(bmi_labels.keys()),\n",
    "                          right=False)\n",
    "df_filtered['BMI_category_label'] = df_filtered['BMI_category'].map(bmi_labels)"
   ]
  },
  {
   "cell_type": "code",
   "execution_count": 13,
   "id": "0f39b6f5",
   "metadata": {},
   "outputs": [
    {
     "name": "stderr",
     "output_type": "stream",
     "text": [
      "C:\\Users\\hasan\\AppData\\Local\\Temp\\ipykernel_12900\\135780483.py:11: SettingWithCopyWarning: \n",
      "A value is trying to be set on a copy of a slice from a DataFrame.\n",
      "Try using .loc[row_indexer,col_indexer] = value instead\n",
      "\n",
      "See the caveats in the documentation: https://pandas.pydata.org/pandas-docs/stable/user_guide/indexing.html#returning-a-view-versus-a-copy\n",
      "  df_filtered['insomnia_severity'] = df['insomnia_4'].map(severity_labels)\n"
     ]
    }
   ],
   "source": [
    "# Map insomnia severity codes to labels\n",
    "# Create dictionary for mapping\n",
    "severity_labels = {\n",
    "    0: 'No insomnia',\n",
    "    1: 'Mild',\n",
    "    2: 'Moderate', \n",
    "    3: 'Severe'\n",
    "}\n",
    "\n",
    "# Add new column with text labels\n",
    "df_filtered['insomnia_severity'] = df['insomnia_4'].map(severity_labels)"
   ]
  },
  {
   "cell_type": "code",
   "execution_count": 14,
   "id": "5cef7164",
   "metadata": {},
   "outputs": [],
   "source": [
    "# Save the cleaned and labeled dataset\n",
    "df_filtered.to_excel('cleaned_ready.xlsx', index=False)"
   ]
  }
 ],
 "metadata": {
  "kernelspec": {
   "display_name": "base",
   "language": "python",
   "name": "python3"
  },
  "language_info": {
   "codemirror_mode": {
    "name": "ipython",
    "version": 3
   },
   "file_extension": ".py",
   "mimetype": "text/x-python",
   "name": "python",
   "nbconvert_exporter": "python",
   "pygments_lexer": "ipython3",
   "version": "3.13.5"
  }
 },
 "nbformat": 4,
 "nbformat_minor": 5
}
