{
 "cells": [
  {
   "cell_type": "code",
   "execution_count": 1,
   "id": "bd7cba0f",
   "metadata": {},
   "outputs": [
    {
     "name": "stdout",
     "output_type": "stream",
     "text": [
      "Optimization terminated successfully.\n",
      "         Current function value: 0.381459\n",
      "         Iterations 6\n",
      "Optimization terminated successfully.\n",
      "         Current function value: 0.329099\n",
      "         Iterations 7\n",
      "Optimization terminated successfully.\n",
      "         Current function value: 0.404165\n",
      "         Iterations 7\n",
      "Optimization terminated successfully.\n",
      "         Current function value: 0.381242\n",
      "         Iterations 6\n",
      "{'C(activity_level, Treatment(reference=\"low activity\"))[T.high activity]': {'OR': np.float64(0.48365843836315014), 'CI_lower': np.float64(0.3935146976210819), 'CI_upper': np.float64(0.5944517102259027), 'p_value': np.float64(5.1168351180286125e-12)}, 'C(activity_level, Treatment(reference=\"low activity\"))[T.moderate activity]': {'OR': np.float64(0.6249824881463157), 'CI_lower': np.float64(0.5081250358231919), 'CI_upper': np.float64(0.7687145543945894), 'p_value': np.float64(8.565315178877e-06)}, 'C(income_group_label, Treatment(reference=\"Very Low\"))[T.High]': {'OR': np.float64(0.7822293807855022), 'CI_lower': np.float64(0.5872375833976452), 'CI_upper': np.float64(1.0419680576706831), 'p_value': np.float64(0.09316499977792052)}, 'C(income_group_label, Treatment(reference=\"Very Low\"))[T.Low]': {'OR': np.float64(0.7020792988664051), 'CI_lower': np.float64(0.5581343509045643), 'CI_upper': np.float64(0.8831481902124079), 'p_value': np.float64(0.002515847365521171)}, 'C(income_group_label, Treatment(reference=\"Very Low\"))[T.Middle]': {'OR': np.float64(0.6499730314918234), 'CI_lower': np.float64(0.5290938604871119), 'CI_upper': np.float64(0.7984688033947837), 'p_value': np.float64(4.065742623149199e-05)}, 'C(income_group_label, Treatment(reference=\"Very Low\"))[T.Very High]': {'OR': np.float64(0.6516844251713452), 'CI_lower': np.float64(0.4164585535772041), 'CI_upper': np.float64(1.0197715627713146), 'p_value': np.float64(0.06089381801582736)}, 'C(BMI_category_label, Treatment(reference=\"Normal\"))[T.Obese]': {'OR': np.float64(0.7677014021508046), 'CI_lower': np.float64(0.5682634494697353), 'CI_upper': np.float64(1.0371341732681685), 'p_value': np.float64(0.08499700271509807)}, 'C(BMI_category_label, Treatment(reference=\"Normal\"))[T.Overweight]': {'OR': np.float64(0.8741041411498858), 'CI_lower': np.float64(0.7297462816101994), 'CI_upper': np.float64(1.0470187636851953), 'p_value': np.float64(0.1440000502802653)}, 'C(BMI_category_label, Treatment(reference=\"Normal\"))[T.Underweight]': {'OR': np.float64(1.4236749039798595), 'CI_lower': np.float64(1.0373140820291946), 'CI_upper': np.float64(1.9539407276310528), 'p_value': np.float64(0.028760587992665062)}, 'C(chronic_disease)[T.1]': {'OR': np.float64(2.370784120972562), 'CI_lower': np.float64(1.958671815382426), 'CI_upper': np.float64(2.8696064874748983), 'p_value': np.float64(7.991010816823192e-19)}, 'C(smoking)[T.1]': {'OR': np.float64(0.824161931814824), 'CI_lower': np.float64(0.623814945064155), 'CI_upper': np.float64(1.0888531851106698), 'p_value': np.float64(0.17353928215544323)}, 'C(drinking_alcohol)[T.1]': {'OR': np.float64(0.9822384250556384), 'CI_lower': np.float64(0.7440182644027339), 'CI_upper': np.float64(1.2967320424993534), 'p_value': np.float64(0.8993726189476255)}, 'C(gender)[T.male]': {'OR': np.float64(0.8153547455576483), 'CI_lower': np.float64(0.661644674485679), 'CI_upper': np.float64(1.0047739923549657), 'p_value': np.float64(0.05545701532402005)}, 'age': {'OR': np.float64(0.9717246779608071), 'CI_lower': np.float64(0.9655449147242555), 'CI_upper': np.float64(0.9779439934471582), 'p_value': np.float64(1.2334691955184621e-18)}}\n",
      "{'Depressed_median': np.float64(1770.0), 'Non_depressed_median': np.float64(2772.0), 'p_value': np.float64(1.2986254308831446e-09)}\n"
     ]
    }
   ],
   "source": [
    "from functions import (\n",
    "    prepare_data, run_main_logistic, run_stratified_by_gender,\n",
    "    run_interaction_analysis, extract_results, depression_group_stats\n",
    ")\n",
    "\n",
    "import pandas as pd\n",
    "\n",
    "# Load dataset\n",
    "df = pd.read_excel(\"cleaned_ready.xlsx\")\n",
    "df_prepared = prepare_data(df)\n",
    "\n",
    "# Run models\n",
    "main_model = run_main_logistic(df_prepared)\n",
    "males, females = run_stratified_by_gender(df_prepared)\n",
    "interaction_model = run_interaction_analysis(df_prepared)\n",
    "\n",
    "# Extract results\n",
    "main_results = extract_results(main_model)\n",
    "print(main_results)\n",
    "\n",
    "# Descriptive statistics\n",
    "stats_summary = depression_group_stats(df_prepared)\n",
    "print(stats_summary)\n"
   ]
  },
  {
   "cell_type": "code",
   "execution_count": 11,
   "id": "84049d30",
   "metadata": {},
   "outputs": [
    {
     "name": "stdout",
     "output_type": "stream",
     "text": [
      "['__builtins__', '__cached__', '__doc__', '__file__', '__loader__', '__name__', '__package__', '__spec__']\n"
     ]
    }
   ],
   "source": [
    "import Functions\n",
    "print(dir(Functions))\n"
   ]
  }
 ],
 "metadata": {
  "kernelspec": {
   "display_name": "base",
   "language": "python",
   "name": "python3"
  },
  "language_info": {
   "codemirror_mode": {
    "name": "ipython",
    "version": 3
   },
   "file_extension": ".py",
   "mimetype": "text/x-python",
   "name": "python",
   "nbconvert_exporter": "python",
   "pygments_lexer": "ipython3",
   "version": "3.13.5"
  }
 },
 "nbformat": 4,
 "nbformat_minor": 5
}
