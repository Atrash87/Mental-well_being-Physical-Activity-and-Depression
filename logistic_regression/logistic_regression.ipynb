{
 "cells": [
  {
   "cell_type": "code",
   "execution_count": null,
   "id": "2f57e7a8",
   "metadata": {},
   "outputs": [],
   "source": [
    "from scripts.analysis import preprocess_data, run_logistic_regression, print_odds_ratios\n",
    "\n",
    "# Load and preprocess data\n",
    "import pandas as pd\n",
    "df = pd.read_csv(\"your_data.csv\")\n",
    "df = preprocess_data(df)\n",
    "\n",
    "# Run a model just for males\n",
    "formula = 'depression_binary ~ C(activity_level, Treatment(reference=\"low activity\")) + age'\n",
    "df_males = df[df['sex'] == 'male']\n",
    "model_males = run_logistic_regression(formula, df_males)\n",
    "print(model_males.summary())\n",
    "print_odds_ratios(model_males, label=\"Males\")\n"
   ]
  }
 ],
 "metadata": {
  "language_info": {
   "name": "python"
  }
 },
 "nbformat": 4,
 "nbformat_minor": 5
}
